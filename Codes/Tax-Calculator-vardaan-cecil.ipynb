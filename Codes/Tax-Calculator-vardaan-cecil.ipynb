{
 "cells": [
  {
   "cell_type": "code",
   "execution_count": 12,
   "id": "791caa01",
   "metadata": {},
   "outputs": [
    {
     "name": "stdout",
     "output_type": "stream",
     "text": [
      "enter annual income from salary \n",
      "300000\n",
      "enter toatal income from other sources \n",
      "20000\n",
      "enter annual income from interest from savings \n",
      "10000\n",
      "enter investment amount \n",
      "40000\n",
      "Total income =  330000.0 \n",
      "Taxable income=  322000.0 \n",
      "Tax bracket < 5L:-No tax applicable\n",
      "Do you want to compute again?, enter 1, else enter 0 1\n",
      "enter annual income from salary \n",
      "400000\n",
      "enter toatal income from other sources \n",
      "200000\n",
      "enter annual income from interest from savings \n",
      "40000\n",
      "enter investment amount \n",
      "40000\n",
      "Total income =  640000.0 \n",
      "Taxable income=  632000.0 \n",
      "Tax bracket 5L-10L:-Tax applicable is 126400.0\n",
      "Do you want to compute again?, enter 1, else enter 0 1\n",
      "enter annual income from salary \n",
      "900000\n",
      "enter toatal income from other sources \n",
      "200000\n",
      "enter annual income from interest from savings \n",
      "40000\n",
      "enter investment amount \n",
      "300000\n",
      "Total income =  1140000.0 \n",
      "taxable income=  1080000.0 \n",
      "Tax bracket >10L:-Tax applicable is 324000.0\n",
      "Do you want to compute again?, enter 1, else enter 0 0\n"
     ]
    }
   ],
   "source": [
    "## float variables used for input of incomes from different sources\n",
    "# while loop is used for repeated inputs\n",
    "a=1 ##condition defined for repeated calculations\n",
    "while (a==1):\n",
    "    inc_s =float(input(\"enter annual income from salary \\n\"))\n",
    "    inc_o = float(input(\"enter toatal income from other sources \\n\"))\n",
    "    inc_i=float(input(\"enter annual income from interest from savings \\n\"))\n",
    "    inv= float(input(\"enter investment amount \\n\"))\n",
    "  \n",
    "    ## variable used for total income  \n",
    "   \n",
    "    total_inc= (inc_s+inc_o+inc_i)\n",
    "    \n",
    "    \n",
    "    ## Variable used for Tax Reabate calculations\n",
    "    \n",
    "    rebate=(total_inc-(inv*.2))\n",
    "    \n",
    "    if(total_inc<=500000): ## condition for first tax bracket\n",
    "        \n",
    "        print(\"Total income = \",total_inc,\"\\n\" \"Taxable income= \",rebate,\"\\n\"\"Tax bracket < 5L:-No tax applicable\")\n",
    "    ## condition for 2nd Tax Bracket\n",
    "    \n",
    "    elif(total_inc<=1000000):\n",
    "        tax=rebate*.2\n",
    "        \n",
    "        print(\"Total income = \",total_inc,\"\\n\" \"Taxable income= \",rebate, \"\\n\"\"Tax bracket 5L-10L:-Tax applicable is\",tax)\n",
    "     ## Condition for 3rd Tax Bracket\n",
    "    \n",
    "    elif(total_inc>1000000):\n",
    "        tax=rebate*.3\n",
    "        print(\"Total income = \",total_inc,\"\\n\" \"taxable income= \",rebate, \"\\n\"\"Tax bracket >10L:-Tax applicable is\",tax)\n",
    "        \n",
    "    ## input to terminate loop if no more calculations are needed    \n",
    "    a=int(input(\"Do you want to compute again?, enter 1, else enter 0 \"))\n",
    "\n",
    "    \n",
    "\n",
    "    \n",
    "\n",
    "\n",
    "\n"
   ]
  },
  {
   "cell_type": "code",
   "execution_count": null,
   "id": "0f6c0246",
   "metadata": {},
   "outputs": [],
   "source": []
  }
 ],
 "metadata": {
  "kernelspec": {
   "display_name": "Python 3 (ipykernel)",
   "language": "python",
   "name": "python3"
  },
  "language_info": {
   "codemirror_mode": {
    "name": "ipython",
    "version": 3
   },
   "file_extension": ".py",
   "mimetype": "text/x-python",
   "name": "python",
   "nbconvert_exporter": "python",
   "pygments_lexer": "ipython3",
   "version": "3.9.7"
  }
 },
 "nbformat": 4,
 "nbformat_minor": 5
}
